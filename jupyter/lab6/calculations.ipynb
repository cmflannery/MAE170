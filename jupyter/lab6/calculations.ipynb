{
 "cells": [
  {
   "cell_type": "markdown",
   "metadata": {},
   "source": [
    "# Lab 6: Calculations"
   ]
  },
  {
   "cell_type": "markdown",
   "metadata": {},
   "source": [
    "## Part 1: Differential Pressure Measurments"
   ]
  },
  {
   "cell_type": "code",
   "execution_count": 1,
   "metadata": {
    "collapsed": true
   },
   "outputs": [],
   "source": [
    "import matplotlib.pyplot as plt\n",
    "import pandas as pd\n",
    "import os"
   ]
  },
  {
   "cell_type": "code",
   "execution_count": 2,
   "metadata": {
    "collapsed": false
   },
   "outputs": [
    {
     "name": "stdout",
     "output_type": "stream",
     "text": [
      "    deltah(cm)  error (cm)  V (mV)  error (mV)  deltah(cm).1  error (cm).1  \\\n",
      "0            0           1       1           1           -75             1   \n",
      "1           -5           1     -17           1           -70             1   \n",
      "2          -10           1     -34           1           -65             1   \n",
      "3          -15           1     -54           1           -60             1   \n",
      "4          -20           1     -67           1           -55             1   \n",
      "5          -25           1     -86           1           -50             1   \n",
      "6          -30           1    -106           1           -45             1   \n",
      "7          -35           1    -122           1           -40             1   \n",
      "8          -40           1    -141           1           -35             1   \n",
      "9          -45           1    -160           1           -30             1   \n",
      "10         -50           1    -177           1           -25             1   \n",
      "11         -55           1    -194           1           -20             1   \n",
      "12         -60           1    -213           1           -15             1   \n",
      "13         -65           1    -232           1           -10             1   \n",
      "14         -70           1    -251           1            -5             1   \n",
      "15         -75           1    -270           1             0             1   \n",
      "\n",
      "    V (mV).1  error  \n",
      "0       -270      1  \n",
      "1       -255      1  \n",
      "2       -239      1  \n",
      "3       -222      1  \n",
      "4       -206      1  \n",
      "5       -189      1  \n",
      "6       -171      1  \n",
      "7       -155      1  \n",
      "8       -136      1  \n",
      "9       -119      1  \n",
      "10      -102      1  \n",
      "11       -84      1  \n",
      "12       -66      1  \n",
      "13       -48      1  \n",
      "14       -32      1  \n",
      "15       -15      1  \n"
     ]
    }
   ],
   "source": [
    "dirPath = os.path.realpath('.')\n",
    "fileName = 'rawData/measurements.xlsx'\n",
    "filePath = os.path.join(dirPath, fileName)\n",
    "df = pd.read_excel(filePath,sheetname=\"Part1\",header=0)\n",
    "print(df)\n",
    "cols = df.columns"
   ]
  },
  {
   "cell_type": "markdown",
   "metadata": {},
   "source": [
    "### Plotting"
   ]
  },
  {
   "cell_type": "code",
   "execution_count": null,
   "metadata": {
    "collapsed": false
   },
   "outputs": [],
   "source": [
    "plt.figure(1)\n",
    "plt.errorbar(df[cols[0]],df[cols[2]],xerr=df[cols[1]],yerr=df[cols[3]])\n",
    "plt.errorbar(df[cols[4]],df[cols[6]],xerr=df[cols[5]],yerr=df[cols[7]])\n",
    "plt.title('Voltage vs delta h')\n",
    "plt.xlabel('delta h (cm)')\n",
    "plt.ylabel('Voltage (mV)')\n",
    "plt.legend(['Ramp Down','Ramp Up'])\n",
    "plt.grid()\n",
    "plt.savefig('pressure.png')\n",
    "plt.show()"
   ]
  },
  {
   "cell_type": "markdown",
   "metadata": {},
   "source": [
    "### Plot again, but zoom in so that error bars are visible"
   ]
  },
  {
   "cell_type": "code",
   "execution_count": 4,
   "metadata": {
    "collapsed": false
   },
   "outputs": [
    {
     "ename": "SyntaxError",
     "evalue": "keyword argument repeated (<ipython-input-4-2e8e1b3ed292>, line 3)",
     "output_type": "error",
     "traceback": [
      "\u001b[0;36m  File \u001b[0;32m\"<ipython-input-4-2e8e1b3ed292>\"\u001b[0;36m, line \u001b[0;32m3\u001b[0m\n\u001b[0;31m    plt.errorbar(df[cols[3]],df[cols[4]],yerr=df[cols[2]],yerr=df[cols[5]])\u001b[0m\n\u001b[0m                                                         ^\u001b[0m\n\u001b[0;31mSyntaxError\u001b[0m\u001b[0;31m:\u001b[0m keyword argument repeated\n"
     ]
    }
   ],
   "source": [
    "plt.figure(1)\n",
    "plt.errorbar(df[cols[0]],df[cols[1]],xerr=df[cols[2]],yerr=df[cols[2]])\n",
    "plt.errorbar(df[cols[3]],df[cols[4]],yerr=df[cols[2]],yerr=df[cols[5]])\n",
    "plt.title('Voltage vs delta h (Hysteresis Effects)')\n",
    "plt.xlabel('delta h (cm)')\n",
    "plt.ylabel('Voltage (mV)')\n",
    "plt.legend(['Ramp Down','Ramp Up'])\n",
    "plt.axis([-10,1,-50,5])\n",
    "plt.grid()\n",
    "plt.savefig('pressureHysteresis.png')\n",
    "plt.show()"
   ]
  },
  {
   "cell_type": "markdown",
   "metadata": {},
   "source": [
    "### Effects of Hysteresis"
   ]
  },
  {
   "cell_type": "code",
   "execution_count": null,
   "metadata": {
    "collapsed": false
   },
   "outputs": [],
   "source": [
    "hysteresisOffset = df[cols[1]][0]-df[cols[4]][len(df[cols[4]])-1]\n",
    "print('Hysteresis Offset =', hysteresisOffset,'mV')\n",
    "hysteresisError = np.sqrt(1**2 + 1**2)\n",
    "print('Hysteresis Error =',hysteresisError, 'mV')"
   ]
  }
 ],
 "metadata": {
  "kernelspec": {
   "display_name": "Python 3",
   "language": "python",
   "name": "python3"
  },
  "language_info": {
   "codemirror_mode": {
    "name": "ipython",
    "version": 3
   },
   "file_extension": ".py",
   "mimetype": "text/x-python",
   "name": "python",
   "nbconvert_exporter": "python",
   "pygments_lexer": "ipython3",
   "version": "3.6.0"
  }
 },
 "nbformat": 4,
 "nbformat_minor": 2
}

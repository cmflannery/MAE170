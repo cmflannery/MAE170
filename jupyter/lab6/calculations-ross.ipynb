{
 "cells": [
  {
   "cell_type": "markdown",
   "metadata": {},
   "source": [
    "# Lab 6: Calculations"
   ]
  },
  {
   "cell_type": "markdown",
   "metadata": {},
   "source": [
    "## Part 1: Differential Pressure Measurments"
   ]
  },
  {
   "cell_type": "code",
   "execution_count": 1,
   "metadata": {
    "collapsed": true
   },
   "outputs": [],
   "source": [
    "import matplotlib.pyplot as plt\n",
    "import numpy as np\n",
    "import pandas as pd\n",
    "import os\n",
    "import math"
   ]
  },
  {
   "cell_type": "code",
   "execution_count": 2,
   "metadata": {
    "collapsed": false
   },
   "outputs": [
    {
     "name": "stdout",
     "output_type": "stream",
     "text": [
      "    deltah(cm)  error(cm)  V (mV)  error (mV)  deltah(cm).1  error(cm).1  \\\n",
      "0            0          1       1           1           -75            1   \n",
      "1           -5          1     -17           1           -70            1   \n",
      "2          -10          1     -34           1           -65            1   \n",
      "3          -15          1     -54           1           -60            1   \n",
      "4          -20          1     -67           1           -55            1   \n",
      "5          -25          1     -86           1           -50            1   \n",
      "6          -30          1    -106           1           -45            1   \n",
      "7          -35          1    -122           1           -40            1   \n",
      "8          -40          1    -141           1           -35            1   \n",
      "9          -45          1    -160           1           -30            1   \n",
      "10         -50          1    -177           1           -25            1   \n",
      "11         -55          1    -194           1           -20            1   \n",
      "12         -60          1    -213           1           -15            1   \n",
      "13         -65          1    -232           1           -10            1   \n",
      "14         -70          1    -251           1            -5            1   \n",
      "15         -75          1    -270           1             0            1   \n",
      "\n",
      "    V (mV).1  error(mV)  \n",
      "0       -270          1  \n",
      "1       -255          1  \n",
      "2       -239          1  \n",
      "3       -222          1  \n",
      "4       -206          1  \n",
      "5       -189          1  \n",
      "6       -171          1  \n",
      "7       -155          1  \n",
      "8       -136          1  \n",
      "9       -119          1  \n",
      "10      -102          1  \n",
      "11       -84          1  \n",
      "12       -66          1  \n",
      "13       -48          1  \n",
      "14       -32          1  \n",
      "15       -15          1  \n"
     ]
    }
   ],
   "source": [
    "dirPath = os.path.realpath('.')\n",
    "fileName = 'rawData/lab 6 measurements (2).xlsx'\n",
    "filePath = os.path.join(dirPath, fileName)\n",
    "df = pd.read_excel(filePath,sheetname=\"Part1\",header=0)\n",
    "print(df)\n",
    "cols = df.columns"
   ]
  },
  {
   "cell_type": "markdown",
   "metadata": {},
   "source": [
    "### Plotting"
   ]
  },
  {
   "cell_type": "code",
   "execution_count": 3,
   "metadata": {
    "collapsed": false
   },
   "outputs": [
    {
     "data": {
      "image/png": "[encoded data removed]",
      "text/plain": [
       "<matplotlib.figure.Figure at 0x10b49a828>"
      ]
     },
     "metadata": {},
     "output_type": "display_data"
    }
   ],
   "source": [
    "plt.figure(1)\n",
    "plt.errorbar(df[cols[0]],df[cols[2]],xerr=2*df[cols[1]],yerr=2*df[cols[3]])\n",
    "plt.errorbar(df[cols[4]],df[cols[6]],xerr=2*df[cols[5]],yerr=2*df[cols[7]])\n",
    "plt.title('Voltage vs delta h')\n",
    "plt.xlabel('delta h (cm)')\n",
    "plt.ylabel('Voltage (mV)')\n",
    "plt.legend(['Ramp Down','Ramp Up'])\n",
    "plt.grid()\n",
    "plt.savefig('pressure.png')\n",
    "plt.show()"
   ]
  },
  {
   "cell_type": "markdown",
   "metadata": {},
   "source": [
    "### Plot again, but zoom in so that error bars are visible"
   ]
  },
  {
   "cell_type": "code",
   "execution_count": 4,
   "metadata": {
    "collapsed": false
   },
   "outputs": [
    {
     "data": {
      "image/png": "[encoded data removed]",
      "text/plain": [
       "<matplotlib.figure.Figure at 0x10b60e1d0>"
      ]
     },
     "metadata": {},
     "output_type": "display_data"
    }
   ],
   "source": [
    "plt.figure(1)\n",
    "plt.errorbar(df[cols[0]],df[cols[2]],xerr=2*df[cols[1]],yerr=2*df[cols[3]])\n",
    "plt.errorbar(df[cols[4]],df[cols[6]],xerr=2*df[cols[5]],yerr=2*df[cols[7]])\n",
    "plt.title('Voltage vs delta h (Hysteresis Effects)')\n",
    "plt.xlabel('delta h (cm)')\n",
    "plt.ylabel('Voltage (mV)')\n",
    "plt.legend(['Ramp Down','Ramp Up'])\n",
    "plt.axis([-10,1,-50,5])\n",
    "plt.grid()\n",
    "plt.savefig('pressureHysteresis.png')\n",
    "plt.show()"
   ]
  },
  {
   "cell_type": "markdown",
   "metadata": {},
   "source": [
    "#### Sensitivity Calculations"
   ]
  },
  {
   "cell_type": "code",
   "execution_count": 5,
   "metadata": {
    "collapsed": false
   },
   "outputs": [
    {
     "name": "stdout",
     "output_type": "stream",
     "text": [
      "sensitivity = 3.51078806379 mV/cm\n",
      "sensitivity error = 0.159453662338 mV/cm\n"
     ]
    }
   ],
   "source": [
    "sensitivity = df['V (mV)'][1:]/df['deltah(cm)'][1:]\n",
    "print('sensitivity =',np.average(sensitivity), 'mV/cm')\n",
    "\n",
    "sens_error = np.sqrt((df['error(cm)'][1:]/df['V (mV)'][1:])**2 + (df['error (mV)'][1:]/df['deltah(cm)'][1:])**2)*sensitivity\n",
    "print('sensitivity error =', np.average(sens_error), 'mV/cm')"
   ]
  },
  {
   "cell_type": "markdown",
   "metadata": {},
   "source": [
    "#### Sensitivity with Hysteresis Effects Calculations"
   ]
  },
  {
   "cell_type": "code",
   "execution_count": 6,
   "metadata": {
    "collapsed": false
   },
   "outputs": [
    {
     "name": "stdout",
     "output_type": "stream",
     "text": [
      "0    3.600000\n",
      "1    3.642857\n",
      "2    3.676923\n",
      "3    3.700000\n",
      "4    3.745455\n",
      "5    3.780000\n",
      "6    3.800000\n",
      "7    3.875000\n",
      "8    3.885714\n",
      "9    3.966667\n",
      "dtype: float64\n",
      "sensitivity = 3.76726157176 mV/cm\n",
      "sensitivity error = 0.0813336209479 mV/cm\n"
     ]
    }
   ],
   "source": [
    "sensitivity_h = df['V (mV).1'][0:10]/df['deltah(cm).1'][0:10]\n",
    "print(sensitivity_h)\n",
    "print('sensitivity =',np.average(sensitivity_h), 'mV/cm')\n",
    "\n",
    "sens_error_h = np.sqrt((df['error(cm).1'][0:10]/df['V (mV).1'][0:10])**2 + (df['error (mV)'][0:10]/df['deltah(cm).1'][0:10])**2)*sensitivity_h\n",
    "print('sensitivity error =', np.average(sens_error_h), 'mV/cm')"
   ]
  },
  {
   "cell_type": "markdown",
   "metadata": {},
   "source": [
    "### Effects of Hysteresis"
   ]
  },
  {
   "cell_type": "code",
   "execution_count": 7,
   "metadata": {
    "collapsed": false
   },
   "outputs": [
    {
     "name": "stdout",
     "output_type": "stream",
     "text": [
      "Hysteresis Offset = 16 mV\n",
      "Hysteresis Error = 1.41421356237 mV\n"
     ]
    }
   ],
   "source": [
    "hysteresisOffset = df[cols[1]][0]-df[cols[6]][len(df[cols[4]])-1]\n",
    "print('Hysteresis Offset =', hysteresisOffset,'mV')\n",
    "hysteresisError = np.sqrt(1**2 + 1**2)\n",
    "print('Hysteresis Error =',hysteresisError, 'mV')"
   ]
  },
  {
   "cell_type": "markdown",
   "metadata": {},
   "source": [
    "## Part 2: Accelerometer Angle Measurements\n",
    "\n",
    "Make a new data frame <code>dfangle</code> to hold the data from the accelAngle sheet."
   ]
  },
  {
   "cell_type": "code",
   "execution_count": 8,
   "metadata": {
    "collapsed": false,
    "scrolled": true
   },
   "outputs": [
    {
     "name": "stdout",
     "output_type": "stream",
     "text": [
      "    Angle (deg)  error  Voltage (mV)  error.1\n",
      "0            90      1           0.7      0.5\n",
      "1            80      1         130.0      0.5\n",
      "2            70      1         246.0      0.5\n",
      "3            60      1         362.0      0.5\n",
      "4            50      1         468.0      0.5\n",
      "5            40      1         556.0      0.5\n",
      "6            30      1         628.0      0.5\n",
      "7            20      1         681.0      0.5\n",
      "8            10      1         716.0      0.5\n",
      "9             0      1         728.0      0.5\n",
      "10           10      1         715.0      0.5\n",
      "11           20      1         680.0      0.5\n",
      "12           30      1         630.0      0.5\n",
      "13           40      1         557.0      0.5\n",
      "14           50      1         467.0      0.5\n",
      "15           60      1         361.0      0.5\n",
      "16           70      1         247.0      0.5\n",
      "17           80      1         129.0      0.5\n",
      "18           90      1           0.9      0.5\n"
     ]
    }
   ],
   "source": [
    "dfangle = pd.read_excel(filePath,sheetname=\"accelAngle\",header=0)\n",
    "print(dfangle)\n",
    "colsangle = dfangle.columns"
   ]
  },
  {
   "cell_type": "code",
   "execution_count": 9,
   "metadata": {
    "collapsed": false,
    "scrolled": false
   },
   "outputs": [
    {
     "data": {
      "image/png": "[encoded data removed]",
      "text/plain": [
       "<matplotlib.figure.Figure at 0x10b3850b8>"
      ]
     },
     "metadata": {},
     "output_type": "display_data"
    }
   ],
   "source": [
    "plt.figure(2)\n",
    "plt.errorbar(dfangle[colsangle[2]],dfangle[colsangle[0]],xerr=2*dfangle[colsangle[3]],yerr=2*dfangle[colsangle[1]])\n",
    "plt.grid()\n",
    "plt.title('Voltage vs Angle')\n",
    "plt.ylabel('Angle (degrees)')\n",
    "plt.xlabel('Voltage (mV)')\n",
    "plt.savefig('VoltAngle.png')\n",
    "plt.show()"
   ]
  },
  {
   "cell_type": "code",
   "execution_count": 10,
   "metadata": {
    "collapsed": false
   },
   "outputs": [
    {
     "data": {
      "image/png": "[encoded data removed]",
      "text/plain": [
       "<matplotlib.figure.Figure at 0x10b868668>"
      ]
     },
     "metadata": {},
     "output_type": "display_data"
    }
   ],
   "source": [
    "accArray = []\n",
    "accArrayError = []\n",
    "for i in range(0,len(dfangle[colsangle[0]])):\n",
    "    accArray.append(math.cos(math.radians(np.array(dfangle[colsangle[0]][i]))))\n",
    "for i in range(0,len(dfangle[colsangle[0]])):    \n",
    "    accArrayError.append(math.sin(math.radians(np.array(dfangle[colsangle[0]][i]))))\n",
    "acc = 9.8*np.array(accArray)                      \n",
    "accError=9.8*math.radians(1)*np.array(accArrayError)\n",
    "plt.figure(3)\n",
    "plt.errorbar(dfangle[colsangle[2]],acc,xerr=2*dfangle[colsangle[3]],yerr= accError)\n",
    "plt.grid()\n",
    "plt.title('Voltage vs Acceleration')\n",
    "plt.ylabel('Acceleration (m/s$^2$)')\n",
    "plt.xlabel('Voltage (mV)')\n",
    "plt.savefig('VoltAcceleration.png')\n",
    "plt.show()"
   ]
  },
  {
   "cell_type": "markdown",
   "metadata": {},
   "source": [
    "## Part 2: Static Measurements"
   ]
  },
  {
   "cell_type": "code",
   "execution_count": 11,
   "metadata": {
    "collapsed": false
   },
   "outputs": [
    {
     "name": "stdout",
     "output_type": "stream",
     "text": [
      "   mass added  Mass(kg)     Force  Force Error  Displacement (cm)  error (cm)  \\\n",
      "0      0.0000    0.1316  1.290996     0.129100                0.5        0.05   \n",
      "1      0.0935    0.2251  2.208231     0.061340                1.8        0.05   \n",
      "2      0.1097    0.3348  3.284388     0.049763                3.3        0.05   \n",
      "3      0.1456    0.4804  4.712724     0.045315                5.2        0.05   \n",
      "4      0.1486    0.6290  6.170490     0.040068                7.7        0.05   \n",
      "\n",
      "   disp (m)  \n",
      "0    0.0005  \n",
      "1    0.0018  \n",
      "2    0.0033  \n",
      "3    0.0052  \n",
      "4    0.0077  \n"
     ]
    }
   ],
   "source": [
    "dfstatic = pd.read_excel(filePath,sheetname=\"staticMeasurements\",header=0)\n",
    "print(dfstatic)\n",
    "colsstatic = dfstatic.columns"
   ]
  },
  {
   "cell_type": "code",
   "execution_count": 12,
   "metadata": {
    "collapsed": false
   },
   "outputs": [
    {
     "name": "stdout",
     "output_type": "stream",
     "text": [
      "kstatic\n",
      "0    2581.992000\n",
      "1    1226.795000\n",
      "2     995.269091\n",
      "3     906.293077\n",
      "4     801.362338\n",
      "dtype: float64\n",
      "\n",
      " error in kstatic =\n",
      "0    365.148810\n",
      "1     48.193059\n",
      "2     21.326107\n",
      "3     12.323961\n",
      "4      7.359075\n",
      "dtype: float64\n"
     ]
    }
   ],
   "source": [
    "gravity = 9.81  # m/s/s\n",
    "kstatic = dfstatic['Force']/dfstatic['disp (m)']\n",
    "print('kstatic')\n",
    "print(kstatic)\n",
    "\n",
    "kstatic_error = kstatic*np.sqrt((dfstatic['Force Error']/dfstatic['Force'])**2 + (dfstatic['error (cm)']/dfstatic['Displacement (cm)'])**2)\n",
    "print('\\n error in kstatic =')\n",
    "print(kstatic_error)"
   ]
  },
  {
   "cell_type": "markdown",
   "metadata": {},
   "source": [
    "## Part 2: Dynamic Measurements"
   ]
  },
  {
   "cell_type": "code",
   "execution_count": 13,
   "metadata": {
    "collapsed": false
   },
   "outputs": [
    {
     "name": "stdout",
     "output_type": "stream",
     "text": [
      "   freq (Hz)  error  period  error.1      omega\n",
      "0       2.17   0.05     440       20  13.634512\n",
      "1       2.08   0.05     470       20  13.069025\n",
      "2       2.17   0.05     480       20  13.634512\n",
      "3       2.22   0.05     440       20  13.948671\n",
      "4       2.17   0.05     460       20  13.634512\n"
     ]
    }
   ],
   "source": [
    "dfdynamic = pd.read_excel(filePath,sheetname=\"dynamicMeasurements\",header=0)\n",
    "print(dfdynamic)\n",
    "colsdynamic = dfdynamic.columns"
   ]
  },
  {
   "cell_type": "markdown",
   "metadata": {},
   "source": [
    "__NOTE:__ We also need to define the mass"
   ]
  },
  {
   "cell_type": "code",
   "execution_count": 14,
   "metadata": {
    "collapsed": true
   },
   "outputs": [],
   "source": [
    "MASS = 0.2772"
   ]
  },
  {
   "cell_type": "markdown",
   "metadata": {},
   "source": [
    "### Now lets calculate $k_{dynamic}$"
   ]
  },
  {
   "cell_type": "code",
   "execution_count": 15,
   "metadata": {
    "collapsed": false
   },
   "outputs": [
    {
     "name": "stdout",
     "output_type": "stream",
     "text": [
      "kdynamic =\n",
      "0    51.531458\n",
      "1    47.345601\n",
      "2    51.531458\n",
      "3    53.933538\n",
      "4    51.531458\n",
      "Name: omega, dtype: float64\n",
      "\n",
      "kdynamic error =\n",
      "0    2.374722\n",
      "1    2.276231\n",
      "2    2.374722\n",
      "3    2.429439\n",
      "4    2.374722\n",
      "dtype: float64\n"
     ]
    }
   ],
   "source": [
    "kdynamic = MASS*dfdynamic['omega']**2\n",
    "print('kdynamic =')\n",
    "print(kdynamic)\n",
    "# now calculate error\n",
    "num = range(0,5)\n",
    "kdynamic_error = dfdynamic['error']/dfdynamic['freq (Hz)']*kdynamic*2\n",
    "print('\\nkdynamic error =')\n",
    "print(kdynamic_error)"
   ]
  },
  {
   "cell_type": "code",
   "execution_count": 16,
   "metadata": {
    "collapsed": false
   },
   "outputs": [
    {
     "data": {
      "image/png": "[encoded data removed]",
      "text/plain": [
       "<matplotlib.figure.Figure at 0x10b60e5c0>"
      ]
     },
     "metadata": {},
     "output_type": "display_data"
    }
   ],
   "source": [
    "plt.figure(4)\n",
    "plt.errorbar(num,kdynamic,yerr=kdynamic_error,fmt='o')\n",
    "plt.title('Kdynamic, multiple calculations')\n",
    "plt.xlabel('Trial Number')\n",
    "plt.ylabel('k dynamic (N/m)')\n",
    "plt.legend(['k dynamic'])\n",
    "plt.axis([-0.1,4.1,0,55])\n",
    "plt.grid()\n",
    "plt.savefig('kdynamic.png')\n",
    "plt.show()"
   ]
  },
  {
   "cell_type": "code",
   "execution_count": 17,
   "metadata": {
    "collapsed": false
   },
   "outputs": [
    {
     "name": "stdout",
     "output_type": "stream",
     "text": [
      "    R(ohm)  Vout (V)   error\n",
      "0      110  -10.7360  0.0050\n",
      "1      112   -8.5290  0.0050\n",
      "2      114   -6.3410  0.0050\n",
      "3      116   -4.1980  0.0050\n",
      "4      118   -2.0980  0.0050\n",
      "5      120    0.0054  0.0005\n",
      "6      122    2.0350  0.0050\n",
      "7      124    4.0470  0.0050\n",
      "8      126    6.0170  0.0050\n",
      "9      128    7.8520  0.0050\n",
      "10     130    9.8750  0.0050\n"
     ]
    }
   ],
   "source": [
    "dfWheat = pd.read_excel(filePath,sheetname=\"Wheatstone\",header=0)\n",
    "print(dfWheat)\n",
    "colsWheat = dfWheat.columns"
   ]
  },
  {
   "cell_type": "code",
   "execution_count": 23,
   "metadata": {
    "collapsed": false
   },
   "outputs": [
    {
     "name": "stdout",
     "output_type": "stream",
     "text": [
      "[-0.65217391 -0.51724138 -0.38461538 -0.25423729 -0.12605042  0.\n",
      "  0.12396694  0.24590164  0.36585366  0.48387097  0.6       ]\n"
     ]
    }
   ],
   "source": [
    "R3 = np.linspace(110,130,11)\n",
    "R1 = 120\n",
    "R2 = 120\n",
    "R4 = 120\n",
    "expectedVout = 30*(R2/(R2+R1)-R4/(R3+R4))\n",
    "print(expectedVout)"
   ]
  },
  {
   "cell_type": "code",
   "execution_count": 19,
   "metadata": {
    "collapsed": false
   },
   "outputs": [
    {
     "data": {
      "image/png": "[encoded data removed]",
      "text/plain": [
       "<matplotlib.figure.Figure at 0x10bb396a0>"
      ]
     },
     "metadata": {},
     "output_type": "display_data"
    }
   ],
   "source": [
    "wheatArray = []\n",
    "for i in range(0,len(dfWheat[colsWheat[0]])):\n",
    "    wheatArray.append(1/(np.array(dfWheat[colsWheat[0]][i])+120))\n",
    "    \n",
    "\n",
    "plt.figure(5)\n",
    "plt.plot()\n",
    "plt.errorbar(wheatArray,dfWheat[colsWheat[1]],xerr=0,yerr=2*dfWheat[colsWheat[2]])\n",
    "plt.grid()\n",
    "plt.title('Resistance vs Bridge Output Voltage')\n",
    "plt.ylabel('Voltage (V)')\n",
    "plt.xlabel('1/(R$_x$ + 120) (mho)')\n",
    "plt.savefig('Wheatstone.png')\n",
    "plt.show()"
   ]
  }
 ],
 "metadata": {
  "kernelspec": {
   "display_name": "Python 3",
   "language": "python",
   "name": "python3"
  },
  "language_info": {
   "codemirror_mode": {
    "name": "ipython",
    "version": 3
   },
   "file_extension": ".py",
   "mimetype": "text/x-python",
   "name": "python",
   "nbconvert_exporter": "python",
   "pygments_lexer": "ipython3",
   "version": "3.6.0"
  }
 },
 "nbformat": 4,
 "nbformat_minor": 2
}

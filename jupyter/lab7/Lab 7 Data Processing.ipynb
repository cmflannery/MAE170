{
 "cells": [
  {
   "cell_type": "markdown",
   "metadata": {},
   "source": [
    "# Lab 7 Data"
   ]
  },
  {
   "cell_type": "code",
   "execution_count": 30,
   "metadata": {
    "collapsed": true
   },
   "outputs": [],
   "source": [
    "import numpy as np\n",
    "import matplotlib.pyplot as plt\n",
    "import pandas as pd\n",
    "import os"
   ]
  },
  {
   "cell_type": "markdown",
   "metadata": {},
   "source": [
    "### Constants"
   ]
  },
  {
   "cell_type": "code",
   "execution_count": 31,
   "metadata": {
    "collapsed": false
   },
   "outputs": [
    {
     "name": "stdout",
     "output_type": "stream",
     "text": [
      "mass of bar = 194.49388800000003 g\n"
     ]
    }
   ],
   "source": [
    "width = 3.18  # cm\n",
    "thickness = 0.46  # cm\n",
    "length = 48  # cm\n",
    "volume = length*width*thickness  # cm^3\n",
    "density = 2.77  # g/cm\n",
    "\n",
    "massBar = density*volume\n",
    "print('mass of bar =', massBar, 'g')\n",
    "\n",
    "gammaL = 1.88  # from lab procedures (for first harmonic)"
   ]
  },
  {
   "cell_type": "markdown",
   "metadata": {},
   "source": [
    "## Part 2: Dynamic Loading\n",
    "\n",
    "First, lets start by importing the data from part 2"
   ]
  },
  {
   "cell_type": "code",
   "execution_count": 32,
   "metadata": {
    "collapsed": false
   },
   "outputs": [
    {
     "name": "stdout",
     "output_type": "stream",
     "text": [
      "    Trial  Weight  Frequency (Hz)  error\n",
      "0       1   252.2            6.58   0.05\n",
      "1       2   252.2            6.94   0.05\n",
      "2       3   252.2            7.04   0.05\n",
      "3       4   252.2            6.10   0.05\n",
      "4       5   252.2            6.49   0.05\n",
      "5       6   595.9            4.55   0.05\n",
      "6       7   595.9            4.55   0.05\n",
      "7       8   595.9            4.63   0.05\n",
      "8       9   595.9            4.59   0.05\n",
      "9      10   595.9            4.55   0.05\n",
      "10     11   845.2            3.91   0.05\n",
      "11     12   845.2            4.20   0.05\n",
      "12     13   845.2            3.85   0.05\n",
      "13     14   845.2            4.00   0.05\n",
      "14     15   845.2            4.00   0.05\n",
      "15     16   573.5            4.72   0.05\n",
      "16     17   573.5            4.95   0.05\n",
      "17     18   573.5            4.72   0.05\n",
      "18     19   573.5            4.63   0.05\n",
      "19     20   573.5            4.72   0.05\n",
      "20     21   415.7            5.42   0.05\n",
      "21     22   415.7            5.43   0.05\n",
      "22     23   415.7            5.32   0.05\n",
      "23     24   415.7            5.26   0.05\n",
      "24     25   415.7            5.43   0.05\n"
     ]
    }
   ],
   "source": [
    "dirPath = os.path.realpath('.')\n",
    "fileName = 'rawData/lab7data.xlsx'\n",
    "filePath = os.path.join(dirPath, fileName)\n",
    "df = pd.read_excel(filePath,sheetname=\"Part2\",header=0)\n",
    "print(df)\n",
    "cols = df.columns"
   ]
  },
  {
   "cell_type": "markdown",
   "metadata": {
    "collapsed": true
   },
   "source": [
    "Now lets get to the math.\n",
    "\n",
    "Dynamic loading is described by the following equation.\n",
    "\n",
    "$$ \\omega_n = (\\lambda L)^2 \\sqrt{\\frac{k}{3(M + 4.167m)}} $$\n",
    "\n",
    "Rearranging to solve for k..\n",
    "\n",
    "$$ k = \\frac{\\omega_n}{(\\lambda L)^4}*(3(M+4.167m)) $$"
   ]
  },
  {
   "cell_type": "code",
   "execution_count": 44,
   "metadata": {
    "collapsed": false
   },
   "outputs": [
    {
     "name": "stdout",
     "output_type": "stream",
     "text": [
      "k average = 538.676149684 N/m\n",
      "k max = 621.549280826 N/m\n",
      "k min = 439.361564594 N/m\n",
      "k std = 34.68018148173784 N/m\n"
     ]
    }
   ],
   "source": [
    "angularFreq = 2*np.pi*df['Frequency (Hz)']\n",
    "k =  angularFreq**2/(gammaL)**4 * 3*(massBar/1000+4.167*df['Weight']/1000)\n",
    "print('k average =', np.average(k), 'N/m')\n",
    "print('k max =', np.max(k), 'N/m')\n",
    "print('k min =', np.min(k), 'N/m')\n",
    "print('k std =', np.std(k), 'N/m')"
   ]
  },
  {
   "cell_type": "code",
   "execution_count": 43,
   "metadata": {
    "collapsed": false,
    "scrolled": false
   },
   "outputs": [
    {
     "data": {
      "image/png": "[encoded data removed]",
      "text/plain": [
       "<matplotlib.figure.Figure at 0xa6262e8>"
      ]
     },
     "metadata": {},
     "output_type": "display_data"
    }
   ],
   "source": [
    "plt.figure(1)\n",
    "plt.errorbar(df['Weight'], df['Frequency (Hz)'], yerr=2*df['error'], fmt='o')\n",
    "plt.xlabel('Weight (g)')\n",
    "plt.ylabel('Frequency (Hz)')\n",
    "plt.title('Part 2: Dynamic Loading')\n",
    "plt.grid()\n",
    "plt.show()"
   ]
  },
  {
   "cell_type": "code",
   "execution_count": null,
   "metadata": {
    "collapsed": true
   },
   "outputs": [],
   "source": []
  }
 ],
 "metadata": {
  "kernelspec": {
   "display_name": "Python 3",
   "language": "python",
   "name": "python3"
  },
  "language_info": {
   "codemirror_mode": {
    "name": "ipython",
    "version": 3
   },
   "file_extension": ".py",
   "mimetype": "text/x-python",
   "name": "python",
   "nbconvert_exporter": "python",
   "pygments_lexer": "ipython3",
   "version": "3.6.0"
  }
 },
 "nbformat": 4,
 "nbformat_minor": 2
}

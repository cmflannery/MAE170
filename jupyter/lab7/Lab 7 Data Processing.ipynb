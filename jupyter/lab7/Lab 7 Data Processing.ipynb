{
 "cells": [
  {
   "cell_type": "markdown",
   "metadata": {},
   "source": [
    "# Lab 7 Data"
   ]
  },
  {
   "cell_type": "code",
   "execution_count": 6,
   "metadata": {
    "collapsed": true
   },
   "outputs": [],
   "source": [
    "import numpy as np\n",
    "import matplotlib.pyplot as plt\n",
    "import pandas as pd\n",
    "import os"
   ]
  },
  {
   "cell_type": "markdown",
   "metadata": {},
   "source": [
    "### Constants"
   ]
  },
  {
   "cell_type": "code",
   "execution_count": 7,
   "metadata": {
    "collapsed": false
   },
   "outputs": [
    {
     "name": "stdout",
     "output_type": "stream",
     "text": [
      "mass of bar = 194.49388800000003 g\n"
     ]
    }
   ],
   "source": [
    "width = 3.18  # cm\n",
    "thickness = 0.46  # cm\n",
    "length = 48  # cm\n",
    "volume = length*width*thickness  # cm^3\n",
    "density = 2.77  # g/cm\n",
    "\n",
    "massBar = density*volume\n",
    "print('mass of bar =', massBar, 'g')\n",
    "\n",
    "gammaL = 1.88  # from lab procedures (for first harmonic)"
   ]
  },
  {
   "cell_type": "markdown",
   "metadata": {},
   "source": [
    "## Part 2: Dynamic Loading\n",
    "\n",
    "First, lets start by importing the data from part 2"
   ]
  },
  {
   "cell_type": "code",
   "execution_count": 8,
   "metadata": {
    "collapsed": false
   },
   "outputs": [
    {
     "name": "stdout",
     "output_type": "stream",
     "text": [
      "    Trial  Weight  Frequency (Hz)  error\n",
      "0       1   252.2            6.58   0.05\n",
      "1       2   252.2            6.94   0.05\n",
      "2       3   252.2            7.04   0.05\n",
      "3       4   252.2            6.10   0.05\n",
      "4       5   252.2            6.49   0.05\n",
      "5       6   595.9            4.55   0.05\n",
      "6       7   595.9            4.55   0.05\n",
      "7       8   595.9            4.63   0.05\n",
      "8       9   595.9            4.59   0.05\n",
      "9      10   595.9            4.55   0.05\n",
      "10     11   845.2            3.91   0.05\n",
      "11     12   845.2            4.20   0.05\n",
      "12     13   845.2            3.85   0.05\n",
      "13     14   845.2            4.00   0.05\n",
      "14     15   845.2            4.00   0.05\n",
      "15     16   573.5            4.72   0.05\n",
      "16     17   573.5            4.95   0.05\n",
      "17     18   573.5            4.72   0.05\n",
      "18     19   573.5            4.63   0.05\n",
      "19     20   573.5            4.72   0.05\n",
      "20     21   415.7            5.42   0.05\n",
      "21     22   415.7            5.43   0.05\n",
      "22     23   415.7            5.32   0.05\n",
      "23     24   415.7            5.26   0.05\n",
      "24     25   415.7            5.43   0.05\n"
     ]
    }
   ],
   "source": [
    "dirPath = os.path.realpath('.')\n",
    "fileName = 'rawData/lab7data.xlsx'\n",
    "filePath = os.path.join(dirPath, fileName)\n",
    "df = pd.read_excel(filePath,sheetname=\"Part2\",header=0)\n",
    "print(df)\n",
    "cols = df.columns"
   ]
  },
  {
   "cell_type": "markdown",
   "metadata": {
    "collapsed": true
   },
   "source": [
    "Now lets get to the math.\n",
    "\n",
    "Dynamic loading is described by the following equation.\n",
    "\n",
    "$$ \\omega_n = (\\lambda L)^2 \\sqrt{\\frac{k}{3(M + 4.167m)}} $$\n",
    "\n",
    "Rearranging to solve for k..\n",
    "\n",
    "$$ k = \\frac{\\omega_n}{(\\lambda L)^4}*(3(M+4.167m)) $$"
   ]
  },
  {
   "cell_type": "code",
   "execution_count": 15,
   "metadata": {
    "collapsed": false
   },
   "outputs": [
    {
     "name": "stdout",
     "output_type": "stream",
     "text": [
      "0     12949.543016\n",
      "1     14405.276420\n",
      "2     14823.404974\n",
      "3     11129.158443\n",
      "4     12597.722831\n",
      "5     13312.506737\n",
      "6     13312.506737\n",
      "7     13784.754290\n",
      "8     13547.601652\n",
      "9     13312.506737\n",
      "10    13644.912831\n",
      "11    15744.027206\n",
      "12    13229.356194\n",
      "13    14280.296786\n",
      "14    14280.296786\n",
      "15    13826.474915\n",
      "16    15206.801279\n",
      "17    13826.474915\n",
      "18    13304.221134\n",
      "19    13826.474915\n",
      "20    13592.711112\n",
      "21    13642.914988\n",
      "22    13095.762141\n",
      "23    12802.034761\n",
      "24    13642.914988\n",
      "dtype: float64\n"
     ]
    }
   ],
   "source": [
    "k =  df['Frequency (Hz)']**2/(gammaL)**4 * 3*(massBar+4.167*df['Weight'])\n",
    "print(k)"
   ]
  },
  {
   "cell_type": "code",
   "execution_count": null,
   "metadata": {
    "collapsed": true
   },
   "outputs": [],
   "source": []
  }
 ],
 "metadata": {
  "kernelspec": {
   "display_name": "Python 3",
   "language": "python",
   "name": "python3"
  },
  "language_info": {
   "codemirror_mode": {
    "name": "ipython",
    "version": 3
   },
   "file_extension": ".py",
   "mimetype": "text/x-python",
   "name": "python",
   "nbconvert_exporter": "python",
   "pygments_lexer": "ipython3",
   "version": "3.6.0"
  }
 },
 "nbformat": 4,
 "nbformat_minor": 2
}

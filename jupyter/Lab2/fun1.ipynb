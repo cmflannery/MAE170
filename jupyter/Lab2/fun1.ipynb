{
 "cells": [
  {
   "cell_type": "code",
   "execution_count": 1,
   "metadata": {
    "collapsed": true
   },
   "outputs": [],
   "source": [
    "import numpy as np\n",
    "import matplotlib.pyplot as plt\n",
    "import pandas as pd\n",
    "import os"
   ]
  },
  {
   "cell_type": "code",
   "execution_count": 2,
   "metadata": {
    "collapsed": false
   },
   "outputs": [
    {
     "name": "stdout",
     "output_type": "stream",
     "text": [
      "part2_1000.png\n",
      "part2_10000.png\n",
      "part2_1100.png\n",
      "part2_2000.png\n",
      "part2_500.png\n",
      "part2_900.png\n",
      "q5_200000_f10000.png\n",
      "q5_20000_f10000.png\n",
      "q5_900000_f100000.png\n"
     ]
    }
   ],
   "source": [
    "list_of_files = {}\n",
    "path = '/Users/cflannery/Documents/github/UCSD-MAE170/jupyter/Lab2/raw_data'\n",
    "for (dirpath, dirnames, filenames) in os.walk(path):\n",
    "    for filename in filenames:\n",
    "        if filename.endswith('.xlsx'): \n",
    "            list_of_files[filename] = os.sep.join([dirpath, filename])\n",
    "            \n",
    "i = 0\n",
    "for fileName in list_of_files:\n",
    "    filePath = list_of_files[fileName]\n",
    "    df = pd.read_excel(filePath,header=0)\n",
    "    cols = df.columns\n",
    "    \n",
    "    plot = df.plot(x=cols[0], y=cols[1])\n",
    "    fig = plot.get_figure()\n",
    "    \n",
    "    saveName = ''\n",
    "    for char in fileName:\n",
    "        if char == '.':\n",
    "            break\n",
    "        saveName = saveName + char\n",
    "\n",
    "    saveName = saveName + '.png'\n",
    "    print(saveName)\n",
    "    fig.savefig(saveName)\n",
    "    i = i +1"
   ]
  },
  {
   "cell_type": "code",
   "execution_count": 3,
   "metadata": {
    "collapsed": false,
    "scrolled": true
   },
   "outputs": [],
   "source": [
    "plt.close()"
   ]
  },
  {
   "cell_type": "code",
   "execution_count": 13,
   "metadata": {
    "collapsed": false
   },
   "outputs": [],
   "source": [
    "focusFile = '/Users/cflannery/Documents/github/UCSD-MAE170/jupyter/Lab2/Focus2.xlsx'\n",
    "df = pd.read_excel(focusFile,header=0)\n",
    "cols = df.columns\n",
    "\n",
    "df[cols[0]] = df[cols[0]] *10**6\n",
    "df[cols[1]] = df[cols[1]] *10**6\n",
    "\n",
    "plot = df.plot.scatter(x=cols[0], y=cols[1], yerr=100)\n",
    "plot.grid()\n",
    "plot.set_xlabel('Vset (uV)')\n",
    "plot.set_ylabel('Vout (uV)')\n",
    "plot.set_title('Vout vs Vset')\n",
    "# plot.set_xlim([-0.0005, 0.0015])\n",
    "# plot.set_ylim([-0.0005, 0.0020])\n",
    "\n",
    "fig = plot.get_figure()\n",
    "\n",
    "\n",
    "saveName = 'focus2.png'\n",
    "\n",
    "fig.savefig(saveName)"
   ]
  },
  {
   "cell_type": "code",
   "execution_count": null,
   "metadata": {
    "collapsed": true
   },
   "outputs": [],
   "source": []
  }
 ],
 "metadata": {
  "kernelspec": {
   "display_name": "Python 3",
   "language": "python",
   "name": "python3"
  },
  "language_info": {
   "codemirror_mode": {
    "name": "ipython",
    "version": 3
   },
   "file_extension": ".py",
   "mimetype": "text/x-python",
   "name": "python",
   "nbconvert_exporter": "python",
   "pygments_lexer": "ipython3",
   "version": "3.6.0"
  }
 },
 "nbformat": 4,
 "nbformat_minor": 2
}
